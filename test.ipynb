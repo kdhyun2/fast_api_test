{
 "cells": [
  {
   "cell_type": "code",
   "execution_count": 1,
   "metadata": {},
   "outputs": [],
   "source": [
    "import pandas as pd\n",
    "import pymysql\n",
    "pymysql.install_as_MySQLdb()\n",
    "import datetime, time\n",
    "import sqlalchemy\n",
    "from sqlalchemy import create_engine"
   ]
  },
  {
   "cell_type": "code",
   "execution_count": 2,
   "metadata": {},
   "outputs": [],
   "source": [
    "def connection_db(host_name, user_id, passwd, db_name, tag):\n",
    "    if tag == \"connection\":\n",
    "        conn=pymysql.connect(host=host_name,port=3306,user=user_id,password=passwd,db=db_name)\n",
    "        return conn\n",
    "    \n",
    "    if tag == \"engine\":\n",
    "        engine = create_engine(f\"mysql://{user_id}:{passwd}@{host_name}/{db_name}\")\n",
    "        return engine"
   ]
  },
  {
   "cell_type": "code",
   "execution_count": 3,
   "metadata": {},
   "outputs": [
    {
     "name": "stderr",
     "output_type": "stream",
     "text": [
      "c:\\Users\\kdhyun\\AppData\\Local\\Programs\\Python\\Python39\\lib\\site-packages\\pandas\\io\\sql.py:761: UserWarning: pandas only support SQLAlchemy connectable(engine/connection) ordatabase string URI or sqlite3 DBAPI2 connectionother DBAPI2 objects are not tested, please consider using SQLAlchemy\n",
      "  warnings.warn(\n"
     ]
    },
    {
     "data": {
      "text/html": [
       "<div>\n",
       "<style scoped>\n",
       "    .dataframe tbody tr th:only-of-type {\n",
       "        vertical-align: middle;\n",
       "    }\n",
       "\n",
       "    .dataframe tbody tr th {\n",
       "        vertical-align: top;\n",
       "    }\n",
       "\n",
       "    .dataframe thead th {\n",
       "        text-align: right;\n",
       "    }\n",
       "</style>\n",
       "<table border=\"1\" class=\"dataframe\">\n",
       "  <thead>\n",
       "    <tr style=\"text-align: right;\">\n",
       "      <th></th>\n",
       "      <th>id</th>\n",
       "      <th>create_time</th>\n",
       "      <th>update_time</th>\n",
       "      <th>user_id</th>\n",
       "      <th>user_age</th>\n",
       "      <th>user_address</th>\n",
       "    </tr>\n",
       "  </thead>\n",
       "  <tbody>\n",
       "    <tr>\n",
       "      <th>0</th>\n",
       "      <td>1</td>\n",
       "      <td>2022-05-24 14:52:15</td>\n",
       "      <td>2022-05-24 14:52:15</td>\n",
       "      <td>test_user0</td>\n",
       "      <td>23</td>\n",
       "      <td>my address no0</td>\n",
       "    </tr>\n",
       "    <tr>\n",
       "      <th>1</th>\n",
       "      <td>2</td>\n",
       "      <td>2022-05-24 14:52:15</td>\n",
       "      <td>2022-05-24 14:52:15</td>\n",
       "      <td>test_user1</td>\n",
       "      <td>24</td>\n",
       "      <td>my address no1</td>\n",
       "    </tr>\n",
       "    <tr>\n",
       "      <th>2</th>\n",
       "      <td>3</td>\n",
       "      <td>2022-05-24 14:52:15</td>\n",
       "      <td>2022-05-24 14:52:15</td>\n",
       "      <td>test_user2</td>\n",
       "      <td>25</td>\n",
       "      <td>my address no2</td>\n",
       "    </tr>\n",
       "    <tr>\n",
       "      <th>3</th>\n",
       "      <td>4</td>\n",
       "      <td>2022-05-24 14:52:15</td>\n",
       "      <td>2022-05-24 14:52:15</td>\n",
       "      <td>test_user3</td>\n",
       "      <td>26</td>\n",
       "      <td>my address no3</td>\n",
       "    </tr>\n",
       "    <tr>\n",
       "      <th>4</th>\n",
       "      <td>5</td>\n",
       "      <td>2022-05-24 14:52:15</td>\n",
       "      <td>2022-05-24 14:52:15</td>\n",
       "      <td>test_user4</td>\n",
       "      <td>27</td>\n",
       "      <td>my address no4</td>\n",
       "    </tr>\n",
       "    <tr>\n",
       "      <th>5</th>\n",
       "      <td>6</td>\n",
       "      <td>2022-05-24 14:52:15</td>\n",
       "      <td>2022-05-24 14:52:15</td>\n",
       "      <td>test_user5</td>\n",
       "      <td>28</td>\n",
       "      <td>my address no5</td>\n",
       "    </tr>\n",
       "    <tr>\n",
       "      <th>6</th>\n",
       "      <td>7</td>\n",
       "      <td>2022-05-24 14:52:15</td>\n",
       "      <td>2022-05-24 14:52:15</td>\n",
       "      <td>test_user6</td>\n",
       "      <td>29</td>\n",
       "      <td>my address no6</td>\n",
       "    </tr>\n",
       "    <tr>\n",
       "      <th>7</th>\n",
       "      <td>8</td>\n",
       "      <td>2022-05-24 14:52:15</td>\n",
       "      <td>2022-05-24 14:52:15</td>\n",
       "      <td>test_user7</td>\n",
       "      <td>30</td>\n",
       "      <td>my address no7</td>\n",
       "    </tr>\n",
       "    <tr>\n",
       "      <th>8</th>\n",
       "      <td>9</td>\n",
       "      <td>2022-05-24 14:52:15</td>\n",
       "      <td>2022-05-24 14:52:15</td>\n",
       "      <td>test_user8</td>\n",
       "      <td>31</td>\n",
       "      <td>my address no8</td>\n",
       "    </tr>\n",
       "    <tr>\n",
       "      <th>9</th>\n",
       "      <td>10</td>\n",
       "      <td>2022-05-24 14:52:15</td>\n",
       "      <td>2022-05-24 15:14:31</td>\n",
       "      <td>test_user9</td>\n",
       "      <td>32</td>\n",
       "      <td>my address no9</td>\n",
       "    </tr>\n",
       "  </tbody>\n",
       "</table>\n",
       "</div>"
      ],
      "text/plain": [
       "   id         create_time         update_time     user_id  user_age  \\\n",
       "0   1 2022-05-24 14:52:15 2022-05-24 14:52:15  test_user0        23   \n",
       "1   2 2022-05-24 14:52:15 2022-05-24 14:52:15  test_user1        24   \n",
       "2   3 2022-05-24 14:52:15 2022-05-24 14:52:15  test_user2        25   \n",
       "3   4 2022-05-24 14:52:15 2022-05-24 14:52:15  test_user3        26   \n",
       "4   5 2022-05-24 14:52:15 2022-05-24 14:52:15  test_user4        27   \n",
       "5   6 2022-05-24 14:52:15 2022-05-24 14:52:15  test_user5        28   \n",
       "6   7 2022-05-24 14:52:15 2022-05-24 14:52:15  test_user6        29   \n",
       "7   8 2022-05-24 14:52:15 2022-05-24 14:52:15  test_user7        30   \n",
       "8   9 2022-05-24 14:52:15 2022-05-24 14:52:15  test_user8        31   \n",
       "9  10 2022-05-24 14:52:15 2022-05-24 15:14:31  test_user9        32   \n",
       "\n",
       "     user_address  \n",
       "0  my address no0  \n",
       "1  my address no1  \n",
       "2  my address no2  \n",
       "3  my address no3  \n",
       "4  my address no4  \n",
       "5  my address no5  \n",
       "6  my address no6  \n",
       "7  my address no7  \n",
       "8  my address no8  \n",
       "9  my address no9  "
      ]
     },
     "execution_count": 3,
     "metadata": {},
     "output_type": "execute_result"
    }
   ],
   "source": [
    "conn= connection_db(host_name='localhost',user_id=\"root\",passwd='wkdrnssla12!',db_name=\"testdb\", tag = \"connection\")\n",
    "engine = connection_db(host_name='localhost',user_id=\"root\",passwd='wkdrnssla12!',db_name=\"testdb\", tag = \"engine\")\n",
    "\n",
    "SQLCommend = \"SELECT * FROM user_info;\"\n",
    "result = pd.read_sql(SQLCommend,conn)\n",
    "conn.close()\n",
    "\n",
    "result"
   ]
  },
  {
   "cell_type": "code",
   "execution_count": null,
   "metadata": {},
   "outputs": [],
   "source": [
    "age = 23\n",
    "user_data_sum = []\n",
    "for i in range(10):\n",
    "    create_time = datetime.datetime.now()\n",
    "    update_time = datetime.datetime.now()\n",
    "    user_name = f\"test_user{i}\"\n",
    "    user_age = age\n",
    "    user_add = f\"my address no{i}\"\n",
    "    \n",
    "    user_data = [create_time, update_time, user_name, user_age, user_add]\n",
    "    user_data_sum.append(user_data)\n",
    "    age = age +1\n",
    "user_df = pd.DataFrame(user_data_sum, columns=[\"create_time\",\"update_time\",\"user_id\",\"user_age\", \"user_address\"])\n",
    "user_df.to_sql(name=\"user_info\", con=engine, if_exists='append', chunksize=1000, index=False)"
   ]
  },
  {
   "cell_type": "code",
   "execution_count": 63,
   "metadata": {},
   "outputs": [
    {
     "data": {
      "text/plain": [
       "<sqlalchemy.engine.cursor.LegacyCursorResult at 0x13da2b15310>"
      ]
     },
     "execution_count": 63,
     "metadata": {},
     "output_type": "execute_result"
    }
   ],
   "source": [
    "engine = connection_db(host_name='localhost',user_id=\"root\",passwd='wkdrnssla12!',db_name=\"testdb\", tag = \"engine\")\n",
    "md = sqlalchemy.MetaData(engine)\n",
    "table = sqlalchemy.Table('user_info', md, autoload=True)\n",
    "upd = table.update().where(table.c.user_id=='test_user9').values(update_time=datetime.datetime.now())\n",
    "engine.execute(upd)"
   ]
  },
  {
   "cell_type": "code",
   "execution_count": 2,
   "metadata": {},
   "outputs": [
    {
     "data": {
      "text/plain": [
       "'{\"user_id\": \"test_user3\", \"user_age\": 21}'"
      ]
     },
     "execution_count": 2,
     "metadata": {},
     "output_type": "execute_result"
    }
   ],
   "source": [
    "import requests\n",
    "import json\n",
    "\n",
    "URL = \"http://localhost:8000/user/update\"\n",
    "data = {\n",
    "    \"user_id\": \"test_user3\",\n",
    "    \"user_age\": 21\n",
    "}\n",
    "\n",
    "data = json.dumps(data)\n",
    "data"
   ]
  },
  {
   "cell_type": "code",
   "execution_count": 8,
   "metadata": {},
   "outputs": [
    {
     "data": {
      "text/plain": [
       "<Response [200]>"
      ]
     },
     "execution_count": 8,
     "metadata": {},
     "output_type": "execute_result"
    }
   ],
   "source": [
    "res = requests.post(url=URL, data=data)\n",
    "res"
   ]
  },
  {
   "cell_type": "code",
   "execution_count": 6,
   "metadata": {},
   "outputs": [
    {
     "data": {
      "text/plain": [
       "'{\"user_id\":\"test_user3\",\"user_age\":21,\"user_address\":null}'"
      ]
     },
     "execution_count": 6,
     "metadata": {},
     "output_type": "execute_result"
    }
   ],
   "source": [
    "aa = res.text\n",
    "aa"
   ]
  },
  {
   "cell_type": "code",
   "execution_count": 63,
   "metadata": {},
   "outputs": [],
   "source": [
    "A = list(bb.keys())"
   ]
  },
  {
   "cell_type": "code",
   "execution_count": 64,
   "metadata": {},
   "outputs": [
    {
     "data": {
      "text/plain": [
       "{'user_id': 'testuser', 'user_age': 21}"
      ]
     },
     "execution_count": 64,
     "metadata": {},
     "output_type": "execute_result"
    }
   ],
   "source": [
    "for i in A:\n",
    "    if bb[i] != None:\n",
    "        pass\n",
    "    else:\n",
    "        del(bb[i])\n",
    "\n",
    "bb"
   ]
  },
  {
   "cell_type": "code",
   "execution_count": 76,
   "metadata": {},
   "outputs": [
    {
     "name": "stdout",
     "output_type": "stream",
     "text": [
      "\n"
     ]
    }
   ],
   "source": [
    "user_address =\"\"\n",
    "if bb[\"user_address\"] is not None: del(user_address)\n"
   ]
  },
  {
   "cell_type": "code",
   "execution_count": null,
   "metadata": {},
   "outputs": [],
   "source": []
  }
 ],
 "metadata": {
  "interpreter": {
   "hash": "397f7dd38ab65f1e028a5676527dc30c8d1ef3cb2af26d615af713bd4b04af69"
  },
  "kernelspec": {
   "display_name": "Python 3.9.12 64-bit",
   "language": "python",
   "name": "python3"
  },
  "language_info": {
   "codemirror_mode": {
    "name": "ipython",
    "version": 3
   },
   "file_extension": ".py",
   "mimetype": "text/x-python",
   "name": "python",
   "nbconvert_exporter": "python",
   "pygments_lexer": "ipython3",
   "version": "3.9.12"
  },
  "orig_nbformat": 4
 },
 "nbformat": 4,
 "nbformat_minor": 2
}
